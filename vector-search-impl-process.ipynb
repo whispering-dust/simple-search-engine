{
 "cells": [
  {
   "cell_type": "code",
   "execution_count": 1,
   "id": "66d234b3-d29f-4ae2-a696-d4577e0272a7",
   "metadata": {},
   "outputs": [],
   "source": [
    "# 引入文档\n",
    "import requests \n",
    "\n",
    "docs_url = 'https://github.com/alexeygrigorev/llm-rag-workshop/raw/main/notebooks/documents.json'\n",
    "docs_response = requests.get(docs_url)\n",
    "documents_raw = docs_response.json()\n",
    "\n",
    "documents = []\n",
    "\n",
    "for course in documents_raw:\n",
    "    course_name = course['course']\n",
    "\n",
    "    for doc in course['documents']:\n",
    "        doc['course'] = course_name\n",
    "        documents.append(doc)"
   ]
  },
  {
   "cell_type": "code",
   "execution_count": 2,
   "id": "3cac6827-0cba-4064-8ab2-1b364b52db48",
   "metadata": {},
   "outputs": [
    {
     "data": {
      "text/html": [
       "<div>\n",
       "<style scoped>\n",
       "    .dataframe tbody tr th:only-of-type {\n",
       "        vertical-align: middle;\n",
       "    }\n",
       "\n",
       "    .dataframe tbody tr th {\n",
       "        vertical-align: top;\n",
       "    }\n",
       "\n",
       "    .dataframe thead th {\n",
       "        text-align: right;\n",
       "    }\n",
       "</style>\n",
       "<table border=\"1\" class=\"dataframe\">\n",
       "  <thead>\n",
       "    <tr style=\"text-align: right;\">\n",
       "      <th></th>\n",
       "      <th>course</th>\n",
       "      <th>section</th>\n",
       "      <th>question</th>\n",
       "      <th>text</th>\n",
       "    </tr>\n",
       "  </thead>\n",
       "  <tbody>\n",
       "    <tr>\n",
       "      <th>0</th>\n",
       "      <td>data-engineering-zoomcamp</td>\n",
       "      <td>General course-related questions</td>\n",
       "      <td>Course - When will the course start?</td>\n",
       "      <td>The purpose of this document is to capture fre...</td>\n",
       "    </tr>\n",
       "    <tr>\n",
       "      <th>1</th>\n",
       "      <td>data-engineering-zoomcamp</td>\n",
       "      <td>General course-related questions</td>\n",
       "      <td>Course - What are the prerequisites for this c...</td>\n",
       "      <td>GitHub - DataTalksClub data-engineering-zoomca...</td>\n",
       "    </tr>\n",
       "    <tr>\n",
       "      <th>2</th>\n",
       "      <td>data-engineering-zoomcamp</td>\n",
       "      <td>General course-related questions</td>\n",
       "      <td>Course - Can I still join the course after the...</td>\n",
       "      <td>Yes, even if you don't register, you're still ...</td>\n",
       "    </tr>\n",
       "    <tr>\n",
       "      <th>3</th>\n",
       "      <td>data-engineering-zoomcamp</td>\n",
       "      <td>General course-related questions</td>\n",
       "      <td>Course - I have registered for the Data Engine...</td>\n",
       "      <td>You don't need it. You're accepted. You can al...</td>\n",
       "    </tr>\n",
       "    <tr>\n",
       "      <th>4</th>\n",
       "      <td>data-engineering-zoomcamp</td>\n",
       "      <td>General course-related questions</td>\n",
       "      <td>Course - What can I do before the course starts?</td>\n",
       "      <td>You can start by installing and setting up all...</td>\n",
       "    </tr>\n",
       "  </tbody>\n",
       "</table>\n",
       "</div>"
      ],
      "text/plain": [
       "                      course                           section  \\\n",
       "0  data-engineering-zoomcamp  General course-related questions   \n",
       "1  data-engineering-zoomcamp  General course-related questions   \n",
       "2  data-engineering-zoomcamp  General course-related questions   \n",
       "3  data-engineering-zoomcamp  General course-related questions   \n",
       "4  data-engineering-zoomcamp  General course-related questions   \n",
       "\n",
       "                                            question  \\\n",
       "0               Course - When will the course start?   \n",
       "1  Course - What are the prerequisites for this c...   \n",
       "2  Course - Can I still join the course after the...   \n",
       "3  Course - I have registered for the Data Engine...   \n",
       "4   Course - What can I do before the course starts?   \n",
       "\n",
       "                                                text  \n",
       "0  The purpose of this document is to capture fre...  \n",
       "1  GitHub - DataTalksClub data-engineering-zoomca...  \n",
       "2  Yes, even if you don't register, you're still ...  \n",
       "3  You don't need it. You're accepted. You can al...  \n",
       "4  You can start by installing and setting up all...  "
      ]
     },
     "execution_count": 2,
     "metadata": {},
     "output_type": "execute_result"
    }
   ],
   "source": [
    "# 格式化数据\n",
    "import pandas as pd\n",
    "\n",
    "df = pd.DataFrame(documents, columns=['course', 'section', 'question', 'text'])\n",
    "df.head()"
   ]
  },
  {
   "cell_type": "code",
   "execution_count": 3,
   "id": "755e8733-46ea-4820-aa78-5fbef802ec8c",
   "metadata": {},
   "outputs": [
    {
     "data": {
      "text/plain": [
       "<948x2118 sparse matrix of type '<class 'numpy.float64'>'\n",
       "\twith 26463 stored elements in Compressed Sparse Row format>"
      ]
     },
     "execution_count": 3,
     "metadata": {},
     "output_type": "execute_result"
    }
   ],
   "source": [
    "# 批量处理所有文档\n",
    "from sklearn.feature_extraction.text import TfidfVectorizer\n",
    "fields = ['section', 'question', 'text']\n",
    "transformers = {}\n",
    "matrices = {}\n",
    "\n",
    "for field in fields:\n",
    "    cv = TfidfVectorizer(stop_words='english', min_df=3)\n",
    "    X = cv.fit_transform(df[field])\n",
    "\n",
    "    transformers[field] = cv\n",
    "    matrices[field] = X\n",
    "\n",
    "transformers['text'].get_feature_names_out()\n",
    "matrices['text']"
   ]
  },
  {
   "cell_type": "code",
   "execution_count": 4,
   "id": "0622b8f3-b075-46f2-99c0-370446a13026",
   "metadata": {},
   "outputs": [
    {
     "data": {
      "text/plain": [
       "<948x2118 sparse matrix of type '<class 'numpy.float64'>'\n",
       "\twith 26463 stored elements in Compressed Sparse Row format>"
      ]
     },
     "execution_count": 4,
     "metadata": {},
     "output_type": "execute_result"
    }
   ],
   "source": [
    "# 通过SVD将文档进行嵌入\n",
    "from sklearn.decomposition import TruncatedSVD\n",
    "\n",
    "X = matrices['text']\n",
    "cv = transformers['text']\n",
    "\n",
    "X"
   ]
  },
  {
   "cell_type": "code",
   "execution_count": 10,
   "id": "1d2dfe09-ccf1-4a1c-88f9-f162c0abfa8c",
   "metadata": {},
   "outputs": [
    {
     "data": {
      "text/plain": [
       "(948, 16)"
      ]
     },
     "execution_count": 10,
     "metadata": {},
     "output_type": "execute_result"
    }
   ],
   "source": [
    "# 使用SVD，它会将文档的原始内容尽可能保留并降维\n",
    "svd = TruncatedSVD(n_components=16)\n",
    "X_emb = svd.fit_transform(X)\n",
    "\n",
    "X_emb.shape"
   ]
  },
  {
   "cell_type": "code",
   "execution_count": 11,
   "id": "aad2a8d2-a94d-49e5-bb07-67d8acf08db3",
   "metadata": {},
   "outputs": [
    {
     "data": {
      "text/plain": [
       "array([ 0.08800073, -0.07522612, -0.1005397 ,  0.05179391,  0.05356622,\n",
       "       -0.0584842 ,  0.02909418,  0.06024781, -0.19378915,  0.33482855,\n",
       "        0.06852973,  0.06651945, -0.1227339 ,  0.04540146, -0.01822307,\n",
       "       -0.02478234])"
      ]
     },
     "execution_count": 11,
     "metadata": {},
     "output_type": "execute_result"
    }
   ],
   "source": [
    "X_emb[0]"
   ]
  },
  {
   "cell_type": "code",
   "execution_count": 12,
   "id": "7cd02aae-ccd6-49a5-9ac8-b2a0c926bdb2",
   "metadata": {},
   "outputs": [
    {
     "data": {
      "text/plain": [
       "array([ 0.04353668, -0.03077025, -0.04418478,  0.01177329,  0.02646575,\n",
       "       -0.05036082,  0.01396342,  0.03265892, -0.11419632,  0.18320822,\n",
       "        0.0608642 ,  0.04739668, -0.07505804,  0.02486528,  0.01532271,\n",
       "       -0.04092136])"
      ]
     },
     "execution_count": 12,
     "metadata": {},
     "output_type": "execute_result"
    }
   ],
   "source": [
    "# 对询问语句可以做相同的操作\n",
    "query = 'I just singned up. Is it too late to join the course?'\n",
    "\n",
    "Q = cv.transform([query])\n",
    "Q_emb = svd.transform(Q)\n",
    "Q_emb[0]"
   ]
  },
  {
   "cell_type": "code",
   "execution_count": 14,
   "id": "9ee36cd8-047b-4e5b-9415-967a87a960f1",
   "metadata": {},
   "outputs": [
    {
     "data": {
      "text/plain": [
       "0.11980810517411097"
      ]
     },
     "execution_count": 14,
     "metadata": {},
     "output_type": "execute_result"
    }
   ],
   "source": [
    "import numpy as np\n",
    "np.dot(X_emb[0], Q_emb[0])"
   ]
  },
  {
   "cell_type": "code",
   "execution_count": 17,
   "id": "82ca0e52-e284-4b44-a7a9-1a9afcc2e116",
   "metadata": {},
   "outputs": [
    {
     "data": {
      "text/plain": [
       "array([ 9.78256245e-01,  7.71812597e-02,  9.56596337e-01,  9.30028785e-01,\n",
       "        7.83846077e-02,  6.61092968e-01,  7.07181760e-01,  9.80211537e-01,\n",
       "        8.60445342e-01,  6.27741806e-01,  7.78843720e-01,  9.81555643e-01,\n",
       "        8.84521167e-01,  9.47962886e-01,  2.58448009e-01,  9.77384629e-01,\n",
       "        5.03226799e-01,  7.29989656e-01,  7.50369142e-01,  4.40227133e-01,\n",
       "        5.82800464e-01,  9.35727285e-03,  8.71609589e-01,  7.32743484e-01,\n",
       "        1.38601831e-01,  1.66024696e-01,  3.40344059e-01,  8.85387260e-01,\n",
       "        7.08582665e-01,  7.67479906e-01,  3.69294835e-01,  4.43073893e-01,\n",
       "        7.98002893e-01,  6.52822393e-01,  1.70848750e-01,  8.56348751e-01,\n",
       "        4.01361088e-01,  1.86118516e-01,  6.57513872e-01,  4.80062275e-01,\n",
       "        5.68822026e-01,  2.13439959e-01,  3.39054455e-01,  1.55594278e-01,\n",
       "        1.53597909e-02,  2.37749608e-02, -2.09309279e-01,  1.11678403e-02,\n",
       "        1.37964244e-02,  1.82335910e-01,  1.70104686e-01, -8.35353177e-02,\n",
       "        3.28563836e-01, -3.61043114e-03,  2.60862284e-03, -5.70541624e-03,\n",
       "        5.27311036e-02,  6.24104301e-02, -1.25863120e-02,  1.30747629e-03,\n",
       "       -4.83574713e-02, -7.03336854e-02,  1.62453702e-01, -5.99208560e-02,\n",
       "       -8.37177678e-02, -1.21120375e-01, -4.65454337e-02, -5.17212879e-03,\n",
       "       -1.31765321e-02, -5.73105542e-02, -7.58731416e-03, -6.35799868e-03,\n",
       "        1.08646096e-01,  6.58329878e-02,  1.31049927e-01,  1.92389344e-01,\n",
       "        1.41941294e-01, -6.37901709e-04,  9.86640168e-02,  1.35706443e-01,\n",
       "        3.22582826e-02, -3.79250061e-02, -1.01025742e-02,  5.03290478e-02,\n",
       "       -4.55088672e-02,  7.18431321e-02,  8.09817889e-02, -1.41427356e-01,\n",
       "        1.03911013e-01,  2.93257968e-02,  2.79567798e-03,  1.65028445e-01,\n",
       "       -3.82472555e-02, -6.25419016e-03,  7.66083055e-02,  2.04389883e-01,\n",
       "       -1.82870927e-02, -3.49043966e-02, -6.97961330e-02,  8.92533646e-02,\n",
       "        3.08776040e-01,  8.48156284e-02,  1.34584919e-02,  5.05234010e-02,\n",
       "       -5.85214058e-02, -1.36989653e-01,  7.51288097e-02, -2.25925883e-01,\n",
       "        1.54472134e-04,  1.18711657e-02, -1.36660105e-02,  3.19008895e-02,\n",
       "       -1.37902442e-02,  8.05438688e-02,  5.08719628e-02, -3.71344078e-02,\n",
       "       -7.92001354e-03,  2.52618617e-01,  5.63157411e-02,  2.54081289e-02,\n",
       "       -9.36080750e-02,  2.84138459e-02, -3.21241936e-02, -5.89868186e-04,\n",
       "       -9.89963849e-02, -2.75663186e-02, -6.19726548e-04,  4.70211930e-01,\n",
       "        3.32944412e-01,  2.22689922e-01,  1.49947742e-01,  2.19209738e-01,\n",
       "        1.70062290e-01,  2.07813673e-01,  2.69858963e-01,  2.90895165e-01,\n",
       "        3.50642268e-02, -2.54497788e-02,  1.52191363e-01,  8.67591622e-02,\n",
       "        1.23240770e-01,  3.72288090e-01,  1.33870837e-01,  1.98212141e-01,\n",
       "       -7.77843460e-02, -1.39472225e-01,  1.12158649e-01, -4.43751157e-02,\n",
       "        6.57090012e-01, -1.52926533e-01,  3.92295183e-02, -3.47488890e-02,\n",
       "        1.61624068e-01, -4.36891483e-02,  1.41205067e-01,  5.82164469e-02,\n",
       "       -1.04417209e-01, -3.45960348e-02,  2.53830347e-02,  3.79269528e-02,\n",
       "        8.51320187e-02,  1.16007791e-02,  9.79827307e-02,  1.06657021e-01,\n",
       "        1.92443767e-01,  1.37609892e-01, -1.17348261e-01,  7.72143592e-03,\n",
       "       -6.09380838e-02,  7.80196343e-02, -2.57765188e-02,  2.55034836e-01,\n",
       "        1.22859496e-01,  6.86931597e-02,  2.75202825e-01,  6.66218132e-02,\n",
       "       -4.67967272e-02, -1.23998335e-01, -6.38052287e-02,  7.30939018e-02,\n",
       "        2.92496815e-01,  9.32284328e-02,  4.93904021e-01,  1.10301539e-02,\n",
       "        4.79809110e-02,  1.25804577e-01, -9.27286606e-03, -6.72350868e-02,\n",
       "        1.26175587e-02, -4.34596717e-02,  6.12962126e-02,  1.29224362e-01,\n",
       "        1.03314974e-01,  4.35326305e-01,  1.66578259e-01,  3.76797830e-02,\n",
       "       -9.08447127e-02,  2.07837792e-02,  9.80588927e-02, -1.22718456e-02,\n",
       "        1.48897059e-01, -2.10154020e-02, -8.20106643e-02,  7.24548583e-02,\n",
       "        1.41358241e-01,  1.90331359e-01,  1.48693179e-01, -6.78771049e-02,\n",
       "       -1.10080701e-01,  3.71446506e-01,  3.61951236e-01, -2.50443117e-02,\n",
       "       -1.08335580e-01, -4.96935743e-02, -5.89392933e-02, -6.70123074e-02,\n",
       "       -2.77230931e-02,  3.04736313e-02, -5.28452299e-02,  1.86810172e-01,\n",
       "       -2.03781206e-02,  7.19766412e-02,  8.28776638e-02,  1.44297294e-01,\n",
       "       -7.60198198e-02, -1.27799692e-01, -8.99582885e-02,  1.51451383e-02,\n",
       "        2.21249046e-01,  1.51198357e-01,  1.10107898e-03,  1.02866261e-01,\n",
       "        9.40025894e-02,  2.93836847e-01,  8.27239238e-01,  4.64090471e-02,\n",
       "        7.47651448e-02,  3.82291162e-02, -7.56977545e-03,  1.47629561e-01,\n",
       "       -1.09845465e-02, -3.32897788e-02,  2.79577780e-01,  5.93065112e-02,\n",
       "        6.01720170e-02,  2.67587205e-02,  2.22488918e-01,  5.32848950e-02,\n",
       "        3.18923776e-02, -7.88670095e-02,  6.59800440e-02,  5.86730709e-02,\n",
       "        4.15272135e-02,  1.33938735e-01, -1.81251220e-02, -1.92136915e-02,\n",
       "       -6.81229774e-02,  5.86859205e-02,  1.21609923e-01,  3.96854384e-03,\n",
       "        5.35488442e-02,  6.57135768e-02,  1.54874154e-01, -1.09308655e-01,\n",
       "       -1.70281384e-02,  2.84063498e-01,  3.87290404e-02,  1.31900287e-01,\n",
       "       -8.39835475e-02, -4.48123818e-02,  5.12924950e-02,  3.22439370e-02,\n",
       "        2.15451547e-01, -2.89935262e-02, -6.53467444e-02, -1.10822876e-02,\n",
       "       -7.41755819e-02,  1.91603252e-01, -1.94355565e-02,  5.36641868e-02,\n",
       "       -9.08753010e-02, -1.46248770e-02,  1.02084299e-01, -1.00307207e-02,\n",
       "        3.11627618e-02,  1.37147966e-01, -6.41670032e-02,  8.20920473e-02,\n",
       "        4.83228936e-02, -4.32178196e-02,  1.06506014e-01, -2.55914717e-04,\n",
       "        5.37047262e-01,  4.60133660e-02, -6.12903875e-02,  3.63137111e-02,\n",
       "        2.68033796e-02,  2.79679113e-02,  6.92149831e-02, -1.36036668e-02,\n",
       "       -4.14677634e-02, -3.54526051e-02,  1.06182858e-01, -7.91847477e-02,\n",
       "        5.33747730e-02, -5.63691239e-02, -1.01514439e-02,  3.02462185e-01,\n",
       "        1.81191474e-01, -5.51302877e-02,  1.86155979e-02,  7.39608622e-02,\n",
       "       -3.97489520e-03,  6.16286406e-02,  2.10747175e-02, -5.70779836e-02,\n",
       "        1.59701749e-01, -4.21949733e-02,  1.09244997e-01, -2.26839013e-02,\n",
       "       -4.16077101e-02,  9.86351247e-02,  1.98986548e-01, -7.73408514e-02,\n",
       "       -7.08084296e-02,  5.72271462e-02,  6.19984063e-05,  5.85456853e-02,\n",
       "        1.95023488e-02,  1.23266279e-01, -7.04795743e-02,  2.80856806e-02,\n",
       "       -2.14686243e-03,  1.68473599e-02, -3.55296299e-02,  4.59199349e-03,\n",
       "        3.15647196e-02, -1.02818232e-02,  1.25056865e-02,  9.16373109e-02,\n",
       "        9.36531470e-02, -8.44622311e-03,  2.63877695e-01,  4.06411248e-02,\n",
       "        1.94906111e-01,  6.48978305e-03, -1.87456137e-02,  2.47593529e-02,\n",
       "        9.92867355e-02,  1.45797916e-02,  4.45163174e-02,  1.51528301e-01,\n",
       "        7.26233073e-02,  4.95500415e-02, -1.13112953e-01, -7.91336142e-02,\n",
       "        3.36002931e-01,  3.05213241e-02,  3.22003114e-01,  4.58958398e-02,\n",
       "        3.19402076e-02,  8.67219083e-02, -6.07999713e-02, -5.77358656e-02,\n",
       "        5.37395414e-01, -8.55331277e-02,  4.98124099e-03, -3.43596735e-02,\n",
       "        2.19804884e-01,  1.46966401e-01, -6.54288459e-02,  1.53352133e-01,\n",
       "        1.31457138e-01, -5.09963824e-02, -7.73167345e-02,  5.63370327e-02,\n",
       "        1.25378016e-02,  3.21137391e-02,  1.56156305e-01,  9.96320141e-02,\n",
       "        5.41487530e-01,  4.87373504e-02,  7.79034809e-03,  7.77889234e-02,\n",
       "       -1.56688865e-02,  6.51136757e-02, -6.62980633e-02,  2.18607993e-03,\n",
       "        4.34673502e-02, -8.42519011e-03, -1.01796235e-01,  4.10690177e-01,\n",
       "        1.78912333e-01,  2.68510623e-02, -3.88494500e-02,  9.62264159e-01,\n",
       "        8.46955468e-01,  2.58203392e-02,  1.58038726e-01,  5.99351210e-02,\n",
       "        1.02926055e-01, -1.02028799e-01, -7.02386043e-02, -7.80424519e-02,\n",
       "        7.55378319e-01,  2.23120794e-01, -7.11424126e-02,  7.99464162e-02,\n",
       "        1.72886393e-02, -1.44287061e-02, -1.30145846e-02,  7.63372937e-01,\n",
       "        1.81294486e-01,  1.53712176e-01,  5.86982507e-03,  6.59794701e-02,\n",
       "       -4.81806484e-03,  9.67136520e-02,  6.15424569e-02,  2.81974502e-02,\n",
       "        7.18046779e-01,  2.86939544e-01,  2.13384474e-01,  1.10310140e-01,\n",
       "        2.47722009e-01, -1.20223674e-02,  6.71728822e-02,  1.97789788e-01,\n",
       "        4.95501207e-01, -5.63732577e-02,  1.31616303e-01,  1.07915930e-02,\n",
       "        2.92781546e-01, -2.85111601e-02, -8.60219084e-03,  6.09054490e-01,\n",
       "        9.87072120e-01,  9.28767349e-01,  2.24776065e-01,  8.85433306e-01,\n",
       "        9.69726460e-01,  6.91098844e-01,  9.13495464e-01,  8.77467840e-01,\n",
       "        9.51783515e-01,  5.49036735e-01,  6.89187929e-01,  3.96932705e-01,\n",
       "        7.92556998e-01,  9.86309707e-01,  9.71647621e-01,  9.82487050e-01,\n",
       "        9.46972082e-01,  8.90809595e-01,  9.37004365e-01,  8.11536053e-01,\n",
       "        9.54755818e-01,  7.58969691e-01,  2.29216076e-01,  6.40952519e-03,\n",
       "        3.81236228e-02,  0.00000000e+00, -7.06418288e-02,  1.30317215e-01,\n",
       "        2.05431166e-01,  8.46961669e-03, -1.23671778e-01, -1.25187054e-01,\n",
       "       -7.74127635e-02,  1.70977079e-01,  4.20668858e-01,  2.41825708e-01,\n",
       "        1.50541096e-01, -4.42223894e-04,  1.39713695e-02, -1.00457282e-02,\n",
       "        1.54150308e-01,  7.20060001e-02,  2.15103286e-01,  2.30466063e-01,\n",
       "        6.89799342e-03,  1.63768812e-02, -5.75946447e-02,  1.40318268e-04,\n",
       "        2.44295075e-02,  2.05878455e-01, -2.20585274e-02,  6.30004021e-01,\n",
       "       -1.83620443e-01,  3.69036575e-02,  3.73030030e-01, -4.01191520e-02,\n",
       "       -3.21903194e-02,  2.53022700e-02, -2.99382468e-02,  1.29723660e-01,\n",
       "        5.48923510e-01,  7.63549362e-01, -8.06031878e-02, -4.68319289e-02,\n",
       "       -1.21073694e-02,  2.46207518e-01,  2.31490057e-01,  4.53685517e-01,\n",
       "        1.71465774e-01,  1.35118718e-01,  6.47075318e-02,  2.24266268e-01,\n",
       "        3.28544752e-01,  8.05105816e-02,  2.14457945e-01,  7.14974789e-01,\n",
       "        7.87936735e-02, -2.62516456e-02,  1.85764206e-02, -8.16362986e-02,\n",
       "       -8.62314248e-02,  7.63320710e-02,  3.15495783e-01, -1.02226658e-01,\n",
       "        4.22378963e-01, -7.05786577e-02,  1.61265313e-01, -9.22984822e-03,\n",
       "        2.03178169e-01,  3.92718472e-01,  4.75699842e-02,  2.90600806e-02,\n",
       "        6.92232102e-02,  4.12519246e-02,  1.83667911e-01,  3.10345642e-01,\n",
       "        4.78571035e-02, -3.90110169e-02, -3.19533632e-02,  9.25058956e-02,\n",
       "       -6.65768675e-02,  2.95678088e-02,  7.75670620e-02,  4.49887163e-01,\n",
       "        2.64248177e-01,  9.63038416e-02,  2.98152774e-02,  1.23624912e-01,\n",
       "        6.76583717e-01,  8.12598081e-02, -7.69520544e-02,  2.03147800e-01,\n",
       "       -3.20726888e-03,  1.73342401e-02,  1.19919364e-01, -5.50060137e-02,\n",
       "       -3.77993696e-03, -6.21923154e-02, -9.60149392e-02,  2.28900483e-02,\n",
       "       -9.88853769e-02,  1.39676752e-01,  1.40130743e-01,  2.12767946e-01,\n",
       "        5.90906635e-03,  8.16226431e-02,  6.12528288e-02, -4.30045222e-04,\n",
       "        5.60468604e-01,  9.18543648e-01,  4.78337369e-02,  2.94321285e-01,\n",
       "        2.18213401e-01,  4.33797085e-02,  1.12825357e-01,  7.28219864e-02,\n",
       "        7.03376589e-02,  1.84677646e-03,  9.75655579e-02,  3.91064457e-01,\n",
       "        2.47648840e-01, -7.27287093e-02, -6.80762594e-02,  9.07197215e-03,\n",
       "       -4.59326098e-02, -8.66047959e-02,  1.91162744e-02,  8.68096579e-02,\n",
       "        8.86368706e-02, -1.00735546e-01, -3.25040600e-02,  1.86276421e-01,\n",
       "        5.34593861e-01,  1.19380170e-02, -5.57948888e-02, -2.35038443e-02,\n",
       "        3.60399417e-02,  3.93630561e-01,  7.44253039e-02,  4.07738565e-02,\n",
       "       -5.66100965e-02,  6.47068751e-03,  1.95939448e-01,  1.42587074e-01,\n",
       "        1.16319861e-02,  2.78263120e-02,  6.70723540e-02,  7.14973800e-02,\n",
       "        7.32378256e-02, -9.33938838e-02, -1.93408005e-03,  1.21902003e-01,\n",
       "       -1.29164958e-01,  6.39532601e-02,  2.62956994e-02,  4.58439184e-04,\n",
       "        7.39381384e-02, -1.21934171e-01, -1.59533714e-02,  8.86260858e-02,\n",
       "       -5.30808168e-02, -3.28557282e-02,  2.07405768e-02,  2.60901484e-02,\n",
       "       -4.55790104e-03,  1.64043711e-02,  2.44129711e-02,  3.36748911e-01,\n",
       "        1.63921350e-01,  2.47325310e-02,  5.85625444e-03,  2.63699756e-02,\n",
       "       -1.18924680e-01,  1.86596161e-01,  3.02675500e-03,  2.47184940e-01,\n",
       "        2.34631814e-01, -3.05832338e-02,  6.90163473e-02,  1.05058701e-01,\n",
       "        1.42791534e-01,  8.40996383e-02,  5.60601849e-02,  1.76461376e-01,\n",
       "        4.84979090e-02, -8.42520967e-02, -1.12804409e-01,  6.47397514e-03,\n",
       "       -7.38887274e-02,  1.95760241e-02,  2.07838878e-03,  6.09318869e-02,\n",
       "        2.94446502e-01, -1.69899220e-02,  2.37040665e-01, -6.00657975e-02,\n",
       "        3.07877048e-01,  3.01233897e-01,  3.37057428e-01,  9.58833888e-02,\n",
       "        8.66923084e-02,  5.11317242e-01, -2.57121791e-02, -4.28065262e-03,\n",
       "        1.24629879e-02, -1.02345692e-01, -7.47889677e-03,  2.88537216e-02,\n",
       "       -9.35517717e-04,  1.01811195e-01,  2.05301284e-02,  2.95126282e-01,\n",
       "        2.30612829e-01,  7.79690685e-03,  2.04396134e-01,  2.25443707e-02,\n",
       "        7.94359316e-02,  5.45057811e-01, -7.71363510e-02, -5.70495756e-02,\n",
       "       -1.13781967e-01,  1.14571189e-01,  4.22509464e-02, -3.09913073e-03,\n",
       "        1.74701118e-01,  5.16739677e-02, -4.73325084e-02, -4.02340179e-02,\n",
       "        8.45199409e-01,  1.08174462e-01, -9.30606724e-02, -3.38265180e-02,\n",
       "        3.78482906e-01, -5.89198550e-02,  1.49479395e-01,  1.73875361e-01,\n",
       "        4.45583355e-02,  1.91373701e-01, -9.94965209e-02,  9.55454110e-02,\n",
       "       -3.57161459e-02,  2.05301284e-02,  1.14868122e-01, -4.62664261e-02,\n",
       "        4.02523213e-03,  1.18802601e-01,  3.78800852e-02, -4.34800630e-03,\n",
       "       -1.71895273e-01,  4.19203873e-02, -8.14606867e-02,  5.29329444e-02,\n",
       "        2.26863321e-03,  4.91355908e-02, -1.65101752e-02, -5.86589823e-02,\n",
       "        1.61214273e-02, -5.31558615e-03, -1.73514909e-01,  3.30409499e-02,\n",
       "        9.63973418e-03,  5.20020101e-02,  1.15213476e-01,  1.73855195e-01,\n",
       "       -7.96932175e-03,  0.00000000e+00,  6.99555647e-02,  1.70964844e-02,\n",
       "       -1.66420121e-01,  5.99552829e-02, -1.74434478e-01, -3.35572220e-02,\n",
       "        2.05301284e-02,  4.42725066e-01,  1.14522874e-01,  4.80066489e-02,\n",
       "        1.12933184e-01, -9.19263664e-02, -7.42063747e-02, -4.42627532e-02,\n",
       "       -3.96548004e-03, -9.97025573e-02,  4.84448663e-02, -8.41165825e-02,\n",
       "        6.80473469e-02,  2.22355581e-01,  5.62099086e-01,  2.31403970e-01,\n",
       "       -1.53456535e-02, -1.55235900e-01, -2.18762568e-02,  4.78337041e-02,\n",
       "       -1.28826833e-02, -4.62520120e-02, -2.57316216e-02, -9.32876924e-02,\n",
       "       -2.63040740e-02, -1.16547512e-01, -7.17844066e-02, -3.44452309e-03,\n",
       "        8.86385198e-01,  9.40843474e-01,  9.37087825e-01,  2.85753322e-01,\n",
       "        6.39651785e-01,  8.82876008e-01,  6.93095505e-01, -9.51782241e-02,\n",
       "        9.89766539e-01,  9.02325567e-01,  9.83987581e-02,  6.02413324e-01,\n",
       "        9.26089555e-01,  5.65730396e-01,  6.05095757e-03,  5.40614081e-02,\n",
       "        2.79806363e-01,  5.40371266e-02,  1.26715901e-01,  5.56418830e-02,\n",
       "        5.24766985e-02, -9.01268759e-02,  2.51646308e-05,  1.18014407e-01,\n",
       "       -1.72031073e-02,  8.68636463e-02, -5.23316958e-02,  1.30576677e-01,\n",
       "        1.37492587e-01, -5.96432096e-02, -3.17225508e-02,  6.85238445e-04,\n",
       "       -5.29297260e-02,  3.47788423e-01,  1.14425925e-01, -7.83348188e-02,\n",
       "        1.22298216e-03,  6.60597982e-02,  9.61860915e-02,  3.22154265e-01,\n",
       "        2.00247625e-01,  8.95840397e-01,  5.93343334e-01, -2.63661719e-02,\n",
       "        1.95249714e-04,  6.57537908e-02, -7.36728787e-02,  2.78257388e-01,\n",
       "        1.72098523e-01,  1.35105127e-01,  6.62332809e-01,  8.29209579e-01,\n",
       "        3.92275769e-01,  6.75088314e-01,  4.51114257e-01,  9.09399083e-01,\n",
       "        8.87467134e-01,  9.24972800e-01,  9.75326496e-01,  2.69173192e-01,\n",
       "        8.86702981e-01,  4.55640747e-01,  1.38025286e-01,  1.00931885e-01,\n",
       "        1.23439669e-01,  1.03739930e-01,  3.15245541e-02, -1.60947694e-02,\n",
       "        3.09368261e-01,  1.84999165e-01,  5.57670626e-01,  4.08061219e-01,\n",
       "        2.69190536e-02, -4.42907403e-02,  7.62755842e-02,  1.30063169e-01,\n",
       "        3.05695469e-01, -8.68240132e-02, -2.11771461e-02,  1.75167682e-01,\n",
       "        1.18515759e-02,  3.52910781e-01,  8.33818527e-02,  1.27694981e-02,\n",
       "        9.19527853e-02,  7.63528176e-02, -4.85907521e-03,  1.07140551e-01,\n",
       "       -2.58680293e-02,  2.24151644e-01,  1.02253839e-01,  8.55563672e-02,\n",
       "        3.24982098e-03, -3.89835849e-02, -2.54206260e-02,  2.85878418e-02,\n",
       "        8.90460285e-02,  3.98948959e-02,  7.78881709e-02, -8.17844927e-02,\n",
       "        2.87742038e-01,  1.89638972e-01,  1.44117713e-01,  1.08655206e-01,\n",
       "        2.66803031e-02,  1.29557651e-01,  2.78317511e-02,  2.68728932e-02,\n",
       "        4.09708615e-02,  1.09102219e-01,  2.32884907e-01,  1.25383613e-01,\n",
       "        1.43885340e-01,  2.04174875e-01, -8.80910998e-02,  1.03208755e-01,\n",
       "        1.22074158e-01,  1.57545567e-01, -8.46643166e-02,  1.41562665e-01,\n",
       "        7.50143184e-02,  2.55077089e-02,  1.17325076e-01, -3.40459323e-03,\n",
       "        1.58176449e-01,  1.67535872e-01,  1.12330081e-01,  2.04218069e-01,\n",
       "        5.61498235e-02,  1.29298661e-01,  1.92779618e-01, -1.89249680e-02,\n",
       "       -3.94833870e-03,  2.57228286e-02,  6.08908077e-02,  1.35521686e-01,\n",
       "       -3.44452309e-03,  0.00000000e+00, -2.37339929e-02,  1.27252843e-01,\n",
       "        2.89336367e-02,  6.75434193e-02, -8.81141513e-02,  1.06173755e-01,\n",
       "        3.70484074e-02,  2.88504450e-02,  1.77416120e-03,  1.66056084e-02,\n",
       "       -2.25719505e-02,  4.30205548e-01,  1.62321370e-01,  1.23293481e-01,\n",
       "       -1.15082822e-02,  9.09942122e-02,  1.25541569e-01,  1.20186060e-03,\n",
       "        2.88127140e-02,  3.58336011e-01,  1.36237093e-01,  1.68592155e-01,\n",
       "        1.57151220e-01, -1.02448437e-02, -3.92113389e-02,  3.90758106e-02,\n",
       "        9.81623753e-02, -5.36877864e-03,  9.49602519e-02,  2.45834393e-01,\n",
       "        3.35815593e-01,  1.97930869e-02, -1.91608426e-02, -1.01967807e-01,\n",
       "        2.00197158e-01,  9.57827881e-02,  8.32440014e-02, -7.90086837e-02,\n",
       "        9.91422266e-02,  7.57439085e-02, -1.45892913e-01,  2.09777392e-02,\n",
       "       -9.35243772e-03,  3.00356142e-02, -9.88866939e-03, -2.42341875e-02,\n",
       "       -3.95524871e-02,  2.83670251e-02,  8.19163107e-02, -4.63849782e-02,\n",
       "        6.73778478e-02,  5.14247762e-02, -1.55829238e-02, -6.51935236e-03])"
      ]
     },
     "execution_count": 17,
     "metadata": {},
     "output_type": "execute_result"
    }
   ],
   "source": [
    "# 计算其与所有文档的相似度\n",
    "from sklearn.metrics.pairwise import cosine_similarity\n",
    "score = cosine_similarity(X_emb, Q_emb).flatten()\n",
    "score"
   ]
  },
  {
   "cell_type": "code",
   "execution_count": 18,
   "id": "4723dc1b-b8a5-4ddf-bac9-fbf9a179eff1",
   "metadata": {},
   "outputs": [
    {
     "data": {
      "text/plain": [
       "['If you have submitted two projects (and peer-reviewed at least 3 course-mates’ projects for each submission), you will get the certificate for the course. According to the course coordinator, Alexey Grigorev, only two projects are needed to get the course certificate.\\n(optional) David Odimegwu',\n",
       " 'The course videos are pre-recorded, you can start watching the course right now.\\nWe will also occasionally have office hours - live sessions where we will answer your questions. The office hours sessions are recorded too.\\nYou can see the office hours as well as the pre-recorded course videos in the course playlist on YouTube.',\n",
       " 'Yes, you can. You won’t be able to submit some of the homeworks, but you can still take part in the course.\\nIn order to get a certificate, you need to submit 2 out of 3 course projects and review 3 peers’ Projects by the deadline. It means that if you join the course at the end of November and manage to work on two projects, you will still be eligible for a certificate.',\n",
       " 'No, it’s not possible. The form is closed after the due date. But don’t worry, homework is not mandatory for finishing the course.',\n",
       " \"No, you can only get a certificate if you finish the course with a “live” cohort. We don't award certificates for the self-paced mode. The reason is you need to peer-review capstone(s) after submitting a project. You can only peer-review projects at the time the course is running.\",\n",
       " 'Yes, we will keep all the materials after the course finishes, so you can follow the course at your own pace after it finishes.\\nYou can also continue looking at the homeworks and continue preparing for the next cohort. I guess you can also start working on your final capstone project.',\n",
       " \"The purpose of this document is to capture frequently asked technical questions\\nThe exact day and hour of the course will be 15th Jan 2024 at 17h00. The course will start with the first  “Office Hours'' live.1\\nSubscribe to course public Google Calendar (it works from Desktop only).\\nRegister before the course starts using this link.\\nJoin the course Telegram channel with announcements.\\nDon’t forget to register in DataTalks.Club's Slack and join the channel.\",\n",
       " 'No, late submissions are not allowed. But if the form is still not closed and it’s after the due date, you can still submit the homework. confirm your submission by the date-timestamp on the Course page.y\\nOlder news:[source1] [source2]',\n",
       " 'Please choose the closest one to your answer. Also do not post your answer in the course slack channel.',\n",
       " 'The course is available in the self-paced mode too, so you can go through the materials at any time. But if you want to do it as a cohort with other students, the next iterations will happen in September 2023, September 2024 (and potentially other Septembers as well).']"
      ]
     },
     "execution_count": 18,
     "metadata": {},
     "output_type": "execute_result"
    }
   ],
   "source": [
    "idx = np.argsort(-score)[:10]\n",
    "list(df.loc[idx].text)"
   ]
  },
  {
   "cell_type": "code",
   "execution_count": 20,
   "id": "4fa6393a-7360-41bf-9d2a-5d2972378a65",
   "metadata": {},
   "outputs": [
    {
     "data": {
      "text/plain": [
       "[\"The purpose of this document is to capture frequently asked technical questions\\nThe exact day and hour of the course will be 15th Jan 2024 at 17h00. The course will start with the first  “Office Hours'' live.1\\nSubscribe to course public Google Calendar (it works from Desktop only).\\nRegister before the course starts using this link.\\nJoin the course Telegram channel with announcements.\\nDon’t forget to register in DataTalks.Club's Slack and join the channel.\",\n",
       " 'Please choose the closest one to your answer. Also do not post your answer in the course slack channel.',\n",
       " 'No, it’s not possible. The form is closed after the due date. But don’t worry, homework is not mandatory for finishing the course.',\n",
       " 'Yes, you can. You won’t be able to submit some of the homeworks, but you can still take part in the course.\\nIn order to get a certificate, you need to submit 2 out of 3 course projects and review 3 peers’ Projects by the deadline. It means that if you join the course at the end of November and manage to work on two projects, you will still be eligible for a certificate.',\n",
       " \"Yes, even if you don't register, you're still eligible to submit the homeworks.\\nBe aware, however, that there will be deadlines for turning in the final projects. So don't leave everything for the last minute.\",\n",
       " 'If you have submitted two projects (and peer-reviewed at least 3 course-mates’ projects for each submission), you will get the certificate for the course. According to the course coordinator, Alexey Grigorev, only two projects are needed to get the course certificate.\\n(optional) David Odimegwu',\n",
       " 'The course videos are pre-recorded, you can start watching the course right now.\\nWe will also occasionally have office hours - live sessions where we will answer your questions. The office hours sessions are recorded too.\\nYou can see the office hours as well as the pre-recorded course videos in the course playlist on YouTube.',\n",
       " 'Everything is recorded, so you won’t miss anything. You will be able to ask your questions for office hours in advance and we will cover them during the live stream. Also, you can always ask questions in Slack.',\n",
       " \"No, you can only get a certificate if you finish the course with a “live” cohort. We don't award certificates for the self-paced mode. The reason is you need to peer-review capstone(s) after submitting a project. You can only peer-review projects at the time the course is running.\",\n",
       " 'Yes, we will keep all the materials after the course finishes, so you can follow the course at your own pace after it finishes.\\nYou can also continue looking at the homeworks and continue preparing for the next cohort. I guess you can also start working on your final capstone project.']"
      ]
     },
     "execution_count": 20,
     "metadata": {},
     "output_type": "execute_result"
    }
   ],
   "source": [
    "# 同理使用NMF\n",
    "from sklearn.decomposition import NMF\n",
    "nmf = NMF(n_components=16)\n",
    "X_emb = nmf.fit_transform(X)\n",
    "X_emb[0]\n",
    "\n",
    "Q = cv.transform([query])\n",
    "Q_emb = nmf.transform(Q)\n",
    "Q_emb[0]\n",
    "\n",
    "score = cosine_similarity(X_emb, Q_emb).flatten()\n",
    "idx = np.argsort(-score)[:10]\n",
    "list(df.loc[idx].text)"
   ]
  },
  {
   "cell_type": "code",
   "execution_count": 22,
   "id": "4d03ff48-443f-4490-bfc4-d2bd22f98dcb",
   "metadata": {},
   "outputs": [
    {
     "data": {
      "text/plain": [
       "BertModel(\n",
       "  (embeddings): BertEmbeddings(\n",
       "    (word_embeddings): Embedding(30522, 768, padding_idx=0)\n",
       "    (position_embeddings): Embedding(512, 768)\n",
       "    (token_type_embeddings): Embedding(2, 768)\n",
       "    (LayerNorm): LayerNorm((768,), eps=1e-12, elementwise_affine=True)\n",
       "    (dropout): Dropout(p=0.1, inplace=False)\n",
       "  )\n",
       "  (encoder): BertEncoder(\n",
       "    (layer): ModuleList(\n",
       "      (0-11): 12 x BertLayer(\n",
       "        (attention): BertAttention(\n",
       "          (self): BertSdpaSelfAttention(\n",
       "            (query): Linear(in_features=768, out_features=768, bias=True)\n",
       "            (key): Linear(in_features=768, out_features=768, bias=True)\n",
       "            (value): Linear(in_features=768, out_features=768, bias=True)\n",
       "            (dropout): Dropout(p=0.1, inplace=False)\n",
       "          )\n",
       "          (output): BertSelfOutput(\n",
       "            (dense): Linear(in_features=768, out_features=768, bias=True)\n",
       "            (LayerNorm): LayerNorm((768,), eps=1e-12, elementwise_affine=True)\n",
       "            (dropout): Dropout(p=0.1, inplace=False)\n",
       "          )\n",
       "        )\n",
       "        (intermediate): BertIntermediate(\n",
       "          (dense): Linear(in_features=768, out_features=3072, bias=True)\n",
       "          (intermediate_act_fn): GELUActivation()\n",
       "        )\n",
       "        (output): BertOutput(\n",
       "          (dense): Linear(in_features=3072, out_features=768, bias=True)\n",
       "          (LayerNorm): LayerNorm((768,), eps=1e-12, elementwise_affine=True)\n",
       "          (dropout): Dropout(p=0.1, inplace=False)\n",
       "        )\n",
       "      )\n",
       "    )\n",
       "  )\n",
       "  (pooler): BertPooler(\n",
       "    (dense): Linear(in_features=768, out_features=768, bias=True)\n",
       "    (activation): Tanh()\n",
       "  )\n",
       ")"
      ]
     },
     "execution_count": 22,
     "metadata": {},
     "output_type": "execute_result"
    }
   ],
   "source": [
    "# 使用Bert模型\n",
    "import torch\n",
    "from transformers import BertModel, BertTokenizer\n",
    "\n",
    "tokenizer = BertTokenizer.from_pretrained(\"bert-base-uncased\")\n",
    "model = BertModel.from_pretrained(\"bert-base-uncased\")\n",
    "model.eval()  # Set the model to evaluation mode if not training"
   ]
  },
  {
   "cell_type": "code",
   "execution_count": 24,
   "id": "2b555962-9636-4588-a5b0-496b07f50dc2",
   "metadata": {},
   "outputs": [
    {
     "data": {
      "text/plain": [
       "{'input_ids': tensor([[  101,  2748,  1010,  2057,  2097,  2562,  2035,  1996,  4475,  2044,\n",
       "          1996,  2607, 12321,  1012,   102],\n",
       "        [  101,  2017,  2064,  3582,  1996,  2607,  2012,  2115,  2219,  6393,\n",
       "          2044,  2009, 12321,   102,     0]]), 'token_type_ids': tensor([[0, 0, 0, 0, 0, 0, 0, 0, 0, 0, 0, 0, 0, 0, 0],\n",
       "        [0, 0, 0, 0, 0, 0, 0, 0, 0, 0, 0, 0, 0, 0, 0]]), 'attention_mask': tensor([[1, 1, 1, 1, 1, 1, 1, 1, 1, 1, 1, 1, 1, 1, 1],\n",
       "        [1, 1, 1, 1, 1, 1, 1, 1, 1, 1, 1, 1, 1, 1, 0]])}"
      ]
     },
     "execution_count": 24,
     "metadata": {},
     "output_type": "execute_result"
    }
   ],
   "source": [
    "# 将文本编码\n",
    "texts = [\n",
    "    \"Yes, we will keep all the materials after the course finishes.\",\n",
    "    \"You can follow the course at your own pace after it finishes\"\n",
    "]\n",
    "encoded_input = tokenizer(texts, padding=True, truncation=True, return_tensors='pt')\n",
    "encoded_input"
   ]
  },
  {
   "cell_type": "code",
   "execution_count": 27,
   "id": "5ed281ea-eedb-4247-ad6c-e69719d38ee2",
   "metadata": {},
   "outputs": [],
   "source": [
    "# 禁用梯度计算进行推理\n",
    "with torch.no_grad():  # Disable gradient calculation for inference\n",
    "    outputs = model(**encoded_input)\n",
    "    hidden_states = outputs.last_hidden_state"
   ]
  },
  {
   "cell_type": "code",
   "execution_count": 29,
   "id": "3864288c-0be2-4ce4-98ca-f8c2aff223fa",
   "metadata": {},
   "outputs": [
    {
     "data": {
      "text/plain": [
       "torch.Size([2, 15, 768])"
      ]
     },
     "execution_count": 29,
     "metadata": {},
     "output_type": "execute_result"
    }
   ],
   "source": [
    "hidden_states.shape"
   ]
  },
  {
   "cell_type": "code",
   "execution_count": 30,
   "id": "8988b4aa-fc61-43c3-8652-cf894bc60f7b",
   "metadata": {},
   "outputs": [
    {
     "data": {
      "text/plain": [
       "torch.Size([2, 768])"
      ]
     },
     "execution_count": 30,
     "metadata": {},
     "output_type": "execute_result"
    }
   ],
   "source": [
    "# 压缩嵌入\n",
    "sentence_embeddings = hidden_states.mean(dim=1)\n",
    "sentence_embeddings.shape"
   ]
  },
  {
   "cell_type": "code",
   "execution_count": 31,
   "id": "86a86c63-8228-4825-b70a-68fd4c3f13e6",
   "metadata": {},
   "outputs": [],
   "source": [
    "X_emb = sentence_embeddings.numpy()"
   ]
  },
  {
   "cell_type": "code",
   "execution_count": 32,
   "id": "f039d537-e328-427e-9fe7-adf5417a10e8",
   "metadata": {},
   "outputs": [],
   "source": [
    "# 使用cpu试用即可\n",
    "sentence_embeddings_cpu = sentence_embeddings.cpu()"
   ]
  },
  {
   "cell_type": "code",
   "execution_count": 33,
   "id": "744e3d2f-7cd6-4c7c-b99d-03851ee5e9a4",
   "metadata": {},
   "outputs": [],
   "source": [
    "# 定义函数用于创建batch\n",
    "def make_batches(seq, n):\n",
    "    result = []\n",
    "    for i in range(0, len(seq), n):\n",
    "        batch = seq[i:i+n]\n",
    "        result.append(batch)\n",
    "    return result"
   ]
  },
  {
   "cell_type": "code",
   "execution_count": 36,
   "id": "d57691e6-144a-4b01-bb7b-ec23d3280734",
   "metadata": {},
   "outputs": [
    {
     "name": "stderr",
     "output_type": "stream",
     "text": [
      "100%|████████████████████████████████████████████████████████████████████████████████████| 119/119 [11:18<00:00,  5.70s/it]\n"
     ]
    }
   ],
   "source": [
    "# 将文本批处理，通过BERT计算其嵌入向量，并将嵌入组成一个数组\n",
    "from tqdm import *\n",
    "texts = df['text'].tolist()\n",
    "text_batches = make_batches(texts, 8)\n",
    "\n",
    "all_embeddings = []\n",
    "\n",
    "for batch in tqdm(text_batches):\n",
    "    encoded_input = tokenizer(batch, padding=True, truncation=True, return_tensors='pt')\n",
    "\n",
    "    with torch.no_grad():\n",
    "        outputs = model(**encoded_input)\n",
    "        hidden_states = outputs.last_hidden_state\n",
    "        \n",
    "        batch_embeddings = hidden_states.mean(dim=1)\n",
    "        batch_embeddings_np = batch_embeddings.cpu().numpy()\n",
    "        all_embeddings.append(batch_embeddings_np)\n",
    "\n",
    "final_embeddings = np.vstack(all_embeddings)"
   ]
  },
  {
   "cell_type": "code",
   "execution_count": 37,
   "id": "5e485f01-b241-416e-9c18-24f2fc83e0c6",
   "metadata": {},
   "outputs": [
    {
     "data": {
      "text/plain": [
       "array([[-0.00456303, -0.11667512,  0.6274718 , ..., -0.03659191,\n",
       "         0.10031679,  0.0292713 ],\n",
       "       [-0.1423361 , -0.1985392 ,  0.28455415, ..., -0.01139053,\n",
       "        -0.1539977 ,  0.09535079],\n",
       "       [ 0.19672246, -0.08461305,  0.28200513, ...,  0.11395867,\n",
       "        -0.06448027, -0.0128261 ],\n",
       "       ...,\n",
       "       [-0.2821744 , -0.33324358,  0.29784983, ..., -0.35042733,\n",
       "         0.03266054,  0.09537254],\n",
       "       [-0.42807093, -0.39468756,  0.3094198 , ..., -0.05943285,\n",
       "        -0.12965176,  0.07887058],\n",
       "       [-0.16892126, -0.25146285,  0.47843292, ..., -0.18535416,\n",
       "        -0.1610892 ,  0.27272922]], dtype=float32)"
      ]
     },
     "execution_count": 37,
     "metadata": {},
     "output_type": "execute_result"
    }
   ],
   "source": [
    "final_embeddings"
   ]
  }
 ],
 "metadata": {
  "kernelspec": {
   "display_name": "Python 3 (ipykernel)",
   "language": "python",
   "name": "python3"
  },
  "language_info": {
   "codemirror_mode": {
    "name": "ipython",
    "version": 3
   },
   "file_extension": ".py",
   "mimetype": "text/x-python",
   "name": "python",
   "nbconvert_exporter": "python",
   "pygments_lexer": "ipython3",
   "version": "3.10.13"
  }
 },
 "nbformat": 4,
 "nbformat_minor": 5
}
